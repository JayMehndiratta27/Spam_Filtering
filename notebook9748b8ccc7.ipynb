{
 "cells": [
  {
   "cell_type": "code",
   "execution_count": 1,
   "id": "4567d78b",
   "metadata": {
    "_cell_guid": "b1076dfc-b9ad-4769-8c92-a6c4dae69d19",
    "_uuid": "8f2839f25d086af736a60e9eeb907d3b93b6e0e5",
    "execution": {
     "iopub.execute_input": "2023-11-27T17:18:40.607711Z",
     "iopub.status.busy": "2023-11-27T17:18:40.606969Z",
     "iopub.status.idle": "2023-11-27T17:18:41.048655Z",
     "shell.execute_reply": "2023-11-27T17:18:41.047419Z"
    },
    "papermill": {
     "duration": 0.452692,
     "end_time": "2023-11-27T17:18:41.051228",
     "exception": false,
     "start_time": "2023-11-27T17:18:40.598536",
     "status": "completed"
    },
    "tags": []
   },
   "outputs": [
    {
     "name": "stdout",
     "output_type": "stream",
     "text": [
      "/kaggle/input/spam-text-message-classification/SPAM text message 20170820 - Data.csv\n"
     ]
    }
   ],
   "source": [
    "# This Python 3 environment comes with many helpful analytics libraries installed\n",
    "# It is defined by the kaggle/python Docker image: https://github.com/kaggle/docker-python\n",
    "# For example, here's several helpful packages to load\n",
    "\n",
    "import numpy as np # linear algebra\n",
    "import pandas as pd # data processing, CSV file I/O (e.g. pd.read_csv)\n",
    "\n",
    "# Input data files are available in the read-only \"../input/\" directory\n",
    "# For example, running this (by clicking run or pressing Shift+Enter) will list all files under the input directory\n",
    "\n",
    "import os\n",
    "for dirname, _, filenames in os.walk('/kaggle/input'):\n",
    "    for filename in filenames:\n",
    "        print(os.path.join(dirname, filename))\n",
    "\n",
    "# You can write up to 20GB to the current directory (/kaggle/working/) that gets preserved as output when you create a version using \"Save & Run All\" \n",
    "# You can also write temporary files to /kaggle/temp/, but they won't be saved outside of the current session"
   ]
  },
  {
   "cell_type": "code",
   "execution_count": 2,
   "id": "a80906c1",
   "metadata": {
    "execution": {
     "iopub.execute_input": "2023-11-27T17:18:41.068805Z",
     "iopub.status.busy": "2023-11-27T17:18:41.066778Z",
     "iopub.status.idle": "2023-11-27T17:18:41.126237Z",
     "shell.execute_reply": "2023-11-27T17:18:41.124942Z"
    },
    "papermill": {
     "duration": 0.070166,
     "end_time": "2023-11-27T17:18:41.129524",
     "exception": false,
     "start_time": "2023-11-27T17:18:41.059358",
     "status": "completed"
    },
    "tags": []
   },
   "outputs": [
    {
     "data": {
      "text/html": [
       "<div>\n",
       "<style scoped>\n",
       "    .dataframe tbody tr th:only-of-type {\n",
       "        vertical-align: middle;\n",
       "    }\n",
       "\n",
       "    .dataframe tbody tr th {\n",
       "        vertical-align: top;\n",
       "    }\n",
       "\n",
       "    .dataframe thead th {\n",
       "        text-align: right;\n",
       "    }\n",
       "</style>\n",
       "<table border=\"1\" class=\"dataframe\">\n",
       "  <thead>\n",
       "    <tr style=\"text-align: right;\">\n",
       "      <th></th>\n",
       "      <th>Category</th>\n",
       "      <th>Message</th>\n",
       "    </tr>\n",
       "  </thead>\n",
       "  <tbody>\n",
       "    <tr>\n",
       "      <th>0</th>\n",
       "      <td>ham</td>\n",
       "      <td>Go until jurong point, crazy.. Available only ...</td>\n",
       "    </tr>\n",
       "    <tr>\n",
       "      <th>1</th>\n",
       "      <td>ham</td>\n",
       "      <td>Ok lar... Joking wif u oni...</td>\n",
       "    </tr>\n",
       "    <tr>\n",
       "      <th>2</th>\n",
       "      <td>spam</td>\n",
       "      <td>Free entry in 2 a wkly comp to win FA Cup fina...</td>\n",
       "    </tr>\n",
       "    <tr>\n",
       "      <th>3</th>\n",
       "      <td>ham</td>\n",
       "      <td>U dun say so early hor... U c already then say...</td>\n",
       "    </tr>\n",
       "    <tr>\n",
       "      <th>4</th>\n",
       "      <td>ham</td>\n",
       "      <td>Nah I don't think he goes to usf, he lives aro...</td>\n",
       "    </tr>\n",
       "  </tbody>\n",
       "</table>\n",
       "</div>"
      ],
      "text/plain": [
       "  Category                                            Message\n",
       "0      ham  Go until jurong point, crazy.. Available only ...\n",
       "1      ham                      Ok lar... Joking wif u oni...\n",
       "2     spam  Free entry in 2 a wkly comp to win FA Cup fina...\n",
       "3      ham  U dun say so early hor... U c already then say...\n",
       "4      ham  Nah I don't think he goes to usf, he lives aro..."
      ]
     },
     "execution_count": 2,
     "metadata": {},
     "output_type": "execute_result"
    }
   ],
   "source": [
    "df= pd.read_csv('/kaggle/input/spam-text-message-classification/SPAM text message 20170820 - Data.csv')\n",
    "df.head()"
   ]
  },
  {
   "cell_type": "code",
   "execution_count": 3,
   "id": "96615790",
   "metadata": {
    "execution": {
     "iopub.execute_input": "2023-11-27T17:18:41.145064Z",
     "iopub.status.busy": "2023-11-27T17:18:41.144148Z",
     "iopub.status.idle": "2023-11-27T17:18:41.164114Z",
     "shell.execute_reply": "2023-11-27T17:18:41.163182Z"
    },
    "papermill": {
     "duration": 0.030537,
     "end_time": "2023-11-27T17:18:41.166537",
     "exception": false,
     "start_time": "2023-11-27T17:18:41.136000",
     "status": "completed"
    },
    "tags": []
   },
   "outputs": [
    {
     "data": {
      "text/plain": [
       "Category\n",
       "ham     4825\n",
       "spam     747\n",
       "Name: count, dtype: int64"
      ]
     },
     "execution_count": 3,
     "metadata": {},
     "output_type": "execute_result"
    }
   ],
   "source": [
    "df['Category'].value_counts()"
   ]
  },
  {
   "cell_type": "code",
   "execution_count": 4,
   "id": "19dbf5ab",
   "metadata": {
    "execution": {
     "iopub.execute_input": "2023-11-27T17:18:41.181993Z",
     "iopub.status.busy": "2023-11-27T17:18:41.180959Z",
     "iopub.status.idle": "2023-11-27T17:18:41.192409Z",
     "shell.execute_reply": "2023-11-27T17:18:41.190893Z"
    },
    "papermill": {
     "duration": 0.021847,
     "end_time": "2023-11-27T17:18:41.194980",
     "exception": false,
     "start_time": "2023-11-27T17:18:41.173133",
     "status": "completed"
    },
    "tags": []
   },
   "outputs": [
    {
     "data": {
      "text/plain": [
       "Category    0\n",
       "Message     0\n",
       "dtype: int64"
      ]
     },
     "execution_count": 4,
     "metadata": {},
     "output_type": "execute_result"
    }
   ],
   "source": [
    "df.isnull().sum()"
   ]
  },
  {
   "cell_type": "code",
   "execution_count": 5,
   "id": "f452dd46",
   "metadata": {
    "execution": {
     "iopub.execute_input": "2023-11-27T17:18:41.210377Z",
     "iopub.status.busy": "2023-11-27T17:18:41.209931Z",
     "iopub.status.idle": "2023-11-27T17:18:41.217387Z",
     "shell.execute_reply": "2023-11-27T17:18:41.216293Z"
    },
    "papermill": {
     "duration": 0.01819,
     "end_time": "2023-11-27T17:18:41.219842",
     "exception": false,
     "start_time": "2023-11-27T17:18:41.201652",
     "status": "completed"
    },
    "tags": []
   },
   "outputs": [
    {
     "data": {
      "text/plain": [
       "5572"
      ]
     },
     "execution_count": 5,
     "metadata": {},
     "output_type": "execute_result"
    }
   ],
   "source": [
    "X=df['Message']\n",
    "Y=df['Category']\n",
    "len(X)"
   ]
  },
  {
   "cell_type": "code",
   "execution_count": 6,
   "id": "f725a7ef",
   "metadata": {
    "execution": {
     "iopub.execute_input": "2023-11-27T17:18:41.235909Z",
     "iopub.status.busy": "2023-11-27T17:18:41.235267Z",
     "iopub.status.idle": "2023-11-27T17:18:42.758933Z",
     "shell.execute_reply": "2023-11-27T17:18:42.757942Z"
    },
    "papermill": {
     "duration": 1.534925,
     "end_time": "2023-11-27T17:18:42.761655",
     "exception": false,
     "start_time": "2023-11-27T17:18:41.226730",
     "status": "completed"
    },
    "tags": []
   },
   "outputs": [],
   "source": [
    "from sklearn.model_selection import train_test_split"
   ]
  },
  {
   "cell_type": "code",
   "execution_count": 7,
   "id": "84bac362",
   "metadata": {
    "execution": {
     "iopub.execute_input": "2023-11-27T17:18:42.778192Z",
     "iopub.status.busy": "2023-11-27T17:18:42.777590Z",
     "iopub.status.idle": "2023-11-27T17:18:42.786867Z",
     "shell.execute_reply": "2023-11-27T17:18:42.785746Z"
    },
    "papermill": {
     "duration": 0.021165,
     "end_time": "2023-11-27T17:18:42.789995",
     "exception": false,
     "start_time": "2023-11-27T17:18:42.768830",
     "status": "completed"
    },
    "tags": []
   },
   "outputs": [],
   "source": [
    "X_train, X_test, Y_train, Y_test = train_test_split( X, Y,  test_size=0.20 , random_state=42)"
   ]
  },
  {
   "cell_type": "code",
   "execution_count": 8,
   "id": "0b522408",
   "metadata": {
    "execution": {
     "iopub.execute_input": "2023-11-27T17:18:42.807256Z",
     "iopub.status.busy": "2023-11-27T17:18:42.806833Z",
     "iopub.status.idle": "2023-11-27T17:18:42.813001Z",
     "shell.execute_reply": "2023-11-27T17:18:42.811570Z"
    },
    "papermill": {
     "duration": 0.019698,
     "end_time": "2023-11-27T17:18:42.817226",
     "exception": false,
     "start_time": "2023-11-27T17:18:42.797528",
     "status": "completed"
    },
    "tags": []
   },
   "outputs": [
    {
     "name": "stdout",
     "output_type": "stream",
     "text": [
      "4457 1115\n"
     ]
    }
   ],
   "source": [
    "Train=len(X_train)\n",
    "test=len(X_test)\n",
    "print(Train,test)"
   ]
  },
  {
   "cell_type": "code",
   "execution_count": 9,
   "id": "5627d69c",
   "metadata": {
    "execution": {
     "iopub.execute_input": "2023-11-27T17:18:42.837711Z",
     "iopub.status.busy": "2023-11-27T17:18:42.835809Z",
     "iopub.status.idle": "2023-11-27T17:18:42.858939Z",
     "shell.execute_reply": "2023-11-27T17:18:42.858095Z"
    },
    "papermill": {
     "duration": 0.03573,
     "end_time": "2023-11-27T17:18:42.861847",
     "exception": false,
     "start_time": "2023-11-27T17:18:42.826117",
     "status": "completed"
    },
    "tags": []
   },
   "outputs": [],
   "source": [
    "from sklearn.pipeline import Pipeline\n",
    "from sklearn.feature_extraction.text import TfidfVectorizer"
   ]
  },
  {
   "cell_type": "code",
   "execution_count": 10,
   "id": "f0d7e3fb",
   "metadata": {
    "execution": {
     "iopub.execute_input": "2023-11-27T17:18:42.880220Z",
     "iopub.status.busy": "2023-11-27T17:18:42.879298Z",
     "iopub.status.idle": "2023-11-27T17:18:43.081003Z",
     "shell.execute_reply": "2023-11-27T17:18:43.079869Z"
    },
    "papermill": {
     "duration": 0.214834,
     "end_time": "2023-11-27T17:18:43.084563",
     "exception": false,
     "start_time": "2023-11-27T17:18:42.869729",
     "status": "completed"
    },
    "tags": []
   },
   "outputs": [],
   "source": [
    "from sklearn.naive_bayes import MultinomialNB, ComplementNB\n",
    "from sklearn.svm import LinearSVC"
   ]
  },
  {
   "cell_type": "code",
   "execution_count": 11,
   "id": "6eef8b1c",
   "metadata": {
    "execution": {
     "iopub.execute_input": "2023-11-27T17:18:43.104145Z",
     "iopub.status.busy": "2023-11-27T17:18:43.103657Z",
     "iopub.status.idle": "2023-11-27T17:18:43.111608Z",
     "shell.execute_reply": "2023-11-27T17:18:43.110227Z"
    },
    "papermill": {
     "duration": 0.0212,
     "end_time": "2023-11-27T17:18:43.114659",
     "exception": false,
     "start_time": "2023-11-27T17:18:43.093459",
     "status": "completed"
    },
    "tags": []
   },
   "outputs": [],
   "source": [
    "pipeMNB = Pipeline([\n",
    "('tfidf', TfidfVectorizer()),('clf', MultinomialNB())\n",
    "])\n",
    "pipeCNB = Pipeline([\n",
    "('tfidf', TfidfVectorizer()),('clf', ComplementNB())\n",
    "])\n",
    "pipeSVC = Pipeline([\n",
    "('tfidf', TfidfVectorizer()),('clf', LinearSVC())\n",
    "])"
   ]
  },
  {
   "cell_type": "code",
   "execution_count": 12,
   "id": "4fac839b",
   "metadata": {
    "execution": {
     "iopub.execute_input": "2023-11-27T17:18:43.134400Z",
     "iopub.status.busy": "2023-11-27T17:18:43.133928Z",
     "iopub.status.idle": "2023-11-27T17:18:43.701211Z",
     "shell.execute_reply": "2023-11-27T17:18:43.699757Z"
    },
    "papermill": {
     "duration": 0.580249,
     "end_time": "2023-11-27T17:18:43.704517",
     "exception": false,
     "start_time": "2023-11-27T17:18:43.124268",
     "status": "completed"
    },
    "tags": []
   },
   "outputs": [],
   "source": [
    "#MultinomialNB\n",
    "pipeMNB.fit(X_train, Y_train)\n",
    "predictMNB = pipeMNB.predict(X_test)\n",
    "#ComplementNB\n",
    "pipeCNB.fit(X_train, Y_train)\n",
    "predictCNB = pipeCNB.predict(X_test)\n",
    "#LinearSVC\n",
    "pipeSVC.fit(X_train, Y_train)\n",
    "predictSVC = pipeSVC.predict(X_test)"
   ]
  },
  {
   "cell_type": "code",
   "execution_count": 13,
   "id": "b320459a",
   "metadata": {
    "execution": {
     "iopub.execute_input": "2023-11-27T17:18:43.723419Z",
     "iopub.status.busy": "2023-11-27T17:18:43.722201Z",
     "iopub.status.idle": "2023-11-27T17:18:43.729492Z",
     "shell.execute_reply": "2023-11-27T17:18:43.728206Z"
    },
    "papermill": {
     "duration": 0.019898,
     "end_time": "2023-11-27T17:18:43.732349",
     "exception": false,
     "start_time": "2023-11-27T17:18:43.712451",
     "status": "completed"
    },
    "tags": []
   },
   "outputs": [],
   "source": [
    "from sklearn.metrics import accuracy_score, classification_report"
   ]
  },
  {
   "cell_type": "code",
   "execution_count": 14,
   "id": "1490a60f",
   "metadata": {
    "execution": {
     "iopub.execute_input": "2023-11-27T17:18:43.750608Z",
     "iopub.status.busy": "2023-11-27T17:18:43.749815Z",
     "iopub.status.idle": "2023-11-27T17:18:43.771099Z",
     "shell.execute_reply": "2023-11-27T17:18:43.769592Z"
    },
    "papermill": {
     "duration": 0.034706,
     "end_time": "2023-11-27T17:18:43.774605",
     "exception": false,
     "start_time": "2023-11-27T17:18:43.739899",
     "status": "completed"
    },
    "tags": []
   },
   "outputs": [
    {
     "name": "stdout",
     "output_type": "stream",
     "text": [
      "MNB: 0.9650\n",
      "CNB: 0.9830\n",
      "SVC: 0.9919\n"
     ]
    }
   ],
   "source": [
    "print(f\"MNB: {accuracy_score(Y_test, predictMNB):.4f}\")\n",
    "print(f\"CNB: {accuracy_score(Y_test, predictCNB):.4f}\")\n",
    "print(f\"SVC: {accuracy_score(Y_test, predictSVC):.4f}\")"
   ]
  },
  {
   "cell_type": "code",
   "execution_count": 15,
   "id": "439fa5d5",
   "metadata": {
    "execution": {
     "iopub.execute_input": "2023-11-27T17:18:43.793270Z",
     "iopub.status.busy": "2023-11-27T17:18:43.792408Z",
     "iopub.status.idle": "2023-11-27T17:18:43.873978Z",
     "shell.execute_reply": "2023-11-27T17:18:43.872147Z"
    },
    "papermill": {
     "duration": 0.095646,
     "end_time": "2023-11-27T17:18:43.877778",
     "exception": false,
     "start_time": "2023-11-27T17:18:43.782132",
     "status": "completed"
    },
    "tags": []
   },
   "outputs": [
    {
     "name": "stdout",
     "output_type": "stream",
     "text": [
      "              precision    recall  f1-score   support\n",
      "\n",
      "         ham       0.99      1.00      1.00       966\n",
      "        spam       0.99      0.95      0.97       149\n",
      "\n",
      "    accuracy                           0.99      1115\n",
      "   macro avg       0.99      0.98      0.98      1115\n",
      "weighted avg       0.99      0.99      0.99      1115\n",
      "\n"
     ]
    }
   ],
   "source": [
    "classification= classification_report(Y_test, predictSVC)\n",
    "print(classification)"
   ]
  },
  {
   "cell_type": "code",
   "execution_count": 16,
   "id": "391924c1",
   "metadata": {
    "execution": {
     "iopub.execute_input": "2023-11-27T17:18:43.896867Z",
     "iopub.status.busy": "2023-11-27T17:18:43.896259Z",
     "iopub.status.idle": "2023-11-27T17:18:43.906461Z",
     "shell.execute_reply": "2023-11-27T17:18:43.904677Z"
    },
    "papermill": {
     "duration": 0.022634,
     "end_time": "2023-11-27T17:18:43.909041",
     "exception": false,
     "start_time": "2023-11-27T17:18:43.886407",
     "status": "completed"
    },
    "tags": []
   },
   "outputs": [
    {
     "name": "stdout",
     "output_type": "stream",
     "text": [
      "Result:  spam\n"
     ]
    }
   ],
   "source": [
    "message = \"Call 927363663 to recieve your price\"\n",
    "result = pipeSVC.predict([message])\n",
    "print(\"Result: \", result[0])"
   ]
  }
 ],
 "metadata": {
  "kaggle": {
   "accelerator": "none",
   "dataSources": [
    {
     "datasetId": 2050,
     "sourceId": 3494,
     "sourceType": "datasetVersion"
    }
   ],
   "dockerImageVersionId": 30587,
   "isGpuEnabled": false,
   "isInternetEnabled": false,
   "language": "python",
   "sourceType": "notebook"
  },
  "kernelspec": {
   "display_name": "Python 3",
   "language": "python",
   "name": "python3"
  },
  "language_info": {
   "codemirror_mode": {
    "name": "ipython",
    "version": 3
   },
   "file_extension": ".py",
   "mimetype": "text/x-python",
   "name": "python",
   "nbconvert_exporter": "python",
   "pygments_lexer": "ipython3",
   "version": "3.10.12"
  },
  "papermill": {
   "default_parameters": {},
   "duration": 7.51159,
   "end_time": "2023-11-27T17:18:44.539426",
   "environment_variables": {},
   "exception": null,
   "input_path": "__notebook__.ipynb",
   "output_path": "__notebook__.ipynb",
   "parameters": {},
   "start_time": "2023-11-27T17:18:37.027836",
   "version": "2.4.0"
  }
 },
 "nbformat": 4,
 "nbformat_minor": 5
}
